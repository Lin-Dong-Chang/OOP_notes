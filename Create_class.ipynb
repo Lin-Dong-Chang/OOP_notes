{
 "metadata": {
  "language_info": {
   "codemirror_mode": {
    "name": "ipython",
    "version": 3
   },
   "file_extension": ".py",
   "mimetype": "text/x-python",
   "name": "python",
   "nbconvert_exporter": "python",
   "pygments_lexer": "ipython3",
   "version": "3.9.6"
  },
  "orig_nbformat": 4,
  "kernelspec": {
   "name": "python3",
   "display_name": "Python 3.9.6 64-bit ('data_sci': conda)"
  },
  "interpreter": {
   "hash": "3694abeeb468a8908de5d3c727ec418848a49d0a621a28ff287d969878ce4847"
  }
 },
 "nbformat": 4,
 "nbformat_minor": 2,
 "cells": [
  {
   "source": [
    "### Development Steps\n",
    "1. writing down the objects on paper\n",
    "2. writing a class for each object\n",
    "3. writing methods for each class\n",
    "4. calling the classes and their methods"
   ],
   "cell_type": "markdown",
   "metadata": {}
  },
  {
   "source": [
    "### Creating a class\n",
    ">(underscore style is for def)\n",
    ">\n",
    ">( __init__ : defines how a Point object looks like )\n",
    ">\n",
    ">self is the variable that holds the object instance that is being create by that class"
   ],
   "cell_type": "markdown",
   "metadata": {}
  },
  {
   "cell_type": "code",
   "execution_count": 1,
   "metadata": {},
   "outputs": [],
   "source": [
    "class Point:                         # need an X and Y coordinate\n",
    "                                     # NEEDS to create __init__\n",
    "    def __init__(self, x, y):        # holds the minimum parameters of the creating objects\n",
    "        self.x = x                   # x and y : instance variables\n",
    "        self.y = y                   # self could be any name ex: this_object"
   ]
  },
  {
   "cell_type": "code",
   "execution_count": 2,
   "metadata": {},
   "outputs": [
    {
     "output_type": "execute_result",
     "data": {
      "text/plain": [
       "(10, 10)"
      ]
     },
     "metadata": {},
     "execution_count": 2
    }
   ],
   "source": [
    "point1 = Point(10, 20)               # Point -> class  // Point(10, 20) -> object instance holds by self\n",
    "                                     # Passing Point(10,20) to \"self\", 10 to x, 20 to y\n",
    "point1.x, Point(10, 20).x            # object instance -> self"
   ]
  },
  {
   "cell_type": "code",
   "execution_count": 3,
   "metadata": {},
   "outputs": [
    {
     "output_type": "stream",
     "name": "stdout",
     "text": [
      "<class '__main__.Point'>\n<class 'geometry.PPoint'>\n"
     ]
    }
   ],
   "source": [
    "print(type(point1))                  # New custom type \"Point\"\n",
    "                                     # __main__ here -> name of the current script\n",
    "from geometry import PPoint\n",
    "point2 = PPoint(100, 200)\n",
    "print(type(point2))                  # PPoint -> type // geometry -> where the PPoint is located"
   ]
  },
  {
   "cell_type": "code",
   "execution_count": 4,
   "metadata": {},
   "outputs": [
    {
     "output_type": "stream",
     "name": "stdout",
     "text": [
      "<__main__.Point object at 0x107781d60>\n"
     ]
    }
   ],
   "source": [
    "print(point1)                        # python don't know how to display this type of object. Not like the int object (built-in)"
   ]
  },
  {
   "source": [
    "### More about \"self\""
   ],
   "cell_type": "markdown",
   "metadata": {}
  },
  {
   "cell_type": "code",
   "execution_count": 5,
   "metadata": {},
   "outputs": [],
   "source": [
    "class Person:\n",
    "    def __init__(self, n, a):\n",
    "        self.name = n                 # create an attribute \"name\" which equal to value n \n",
    "        self.age  = a                 # create an attribute \"age\"\n"
   ]
  },
  {
   "cell_type": "code",
   "execution_count": 6,
   "metadata": {},
   "outputs": [
    {
     "output_type": "execute_result",
     "data": {
      "text/plain": [
       "'John'"
      ]
     },
     "metadata": {},
     "execution_count": 6
    }
   ],
   "source": [
    "person1 = Person(\"John\",65)\n",
    "person1.name"
   ]
  },
  {
   "source": [
    "### Creating a method\n",
    "> John : a string object\n",
    ">\n",
    "> count: a method of stirng object\n",
    "> \n",
    ">__init__ : a special method which does not return anything (use to initialize the object while creating)"
   ],
   "cell_type": "markdown",
   "metadata": {}
  },
  {
   "cell_type": "code",
   "execution_count": 7,
   "metadata": {},
   "outputs": [
    {
     "output_type": "execute_result",
     "data": {
      "text/plain": [
       "1"
      ]
     },
     "metadata": {},
     "execution_count": 7
    }
   ],
   "source": [
    "\"John\".count(\"J\")"
   ]
  },
  {
   "cell_type": "code",
   "execution_count": 8,
   "metadata": {},
   "outputs": [],
   "source": [
    "class Point:\n",
    "    def __init__(self, x, y):\n",
    "        self.x = x\n",
    "        self.y = y\n",
    "    \n",
    "    def falls_in_rectangle(self, lowleft, upright):\n",
    "        if lowleft[0] < self.x < upright[0]\\\n",
    "        and lowleft[1] < self.y < upright[1]:\n",
    "            return True\n",
    "        else:\n",
    "            return False"
   ]
  },
  {
   "cell_type": "code",
   "execution_count": 9,
   "metadata": {},
   "outputs": [
    {
     "output_type": "execute_result",
     "data": {
      "text/plain": [
       "False"
      ]
     },
     "metadata": {},
     "execution_count": 9
    }
   ],
   "source": [
    "point2 = Point(3,4)\n",
    "point2.falls_in_rectangle((5,6), (7,9))"
   ]
  },
  {
   "cell_type": "code",
   "execution_count": 10,
   "metadata": {},
   "outputs": [
    {
     "output_type": "execute_result",
     "data": {
      "text/plain": [
       "True"
      ]
     },
     "metadata": {},
     "execution_count": 10
    }
   ],
   "source": [
    "point2.falls_in_rectangle((1,1), (6,6))"
   ]
  },
  {
   "source": [
    "### Difference between __init__ and normal method\n",
    "> init is executed while creating object instance (first time)\n",
    ">\n",
    "> put anything needs to be executed in \\__init__\n",
    ">\n",
    ">"
   ],
   "cell_type": "markdown",
   "metadata": {}
  },
  {
   "cell_type": "code",
   "execution_count": 11,
   "metadata": {},
   "outputs": [],
   "source": [
    "class Point:\n",
    "    def __init__(self, x, y):\n",
    "        print('hey! I am __init__')\n",
    "        self.x = x\n",
    "        self.y = y\n",
    "    \n",
    "    def falls_in_rectangle(self, lowleft, upright):\n",
    "        print('hey! I am ordinary')\n",
    "        if lowleft[0] < self.x < upright[0]\\\n",
    "        and lowleft[1] < self.y < upright[1]:\n",
    "            return True\n",
    "        else:\n",
    "            return False"
   ]
  },
  {
   "cell_type": "code",
   "execution_count": 12,
   "metadata": {},
   "outputs": [
    {
     "output_type": "stream",
     "name": "stdout",
     "text": [
      "hey! I am __init__\n"
     ]
    }
   ],
   "source": [
    "point = Point(3,5)"
   ]
  },
  {
   "cell_type": "code",
   "execution_count": 13,
   "metadata": {},
   "outputs": [
    {
     "output_type": "stream",
     "name": "stdout",
     "text": [
      "hey! I am ordinary\n"
     ]
    },
    {
     "output_type": "execute_result",
     "data": {
      "text/plain": [
       "True"
      ]
     },
     "metadata": {},
     "execution_count": 13
    }
   ],
   "source": [
    "point.falls_in_rectangle((1,1),(6,6))"
   ]
  },
  {
   "cell_type": "code",
   "execution_count": 14,
   "metadata": {},
   "outputs": [
    {
     "output_type": "execute_result",
     "data": {
      "text/plain": [
       "1.4142135623730951"
      ]
     },
     "metadata": {},
     "execution_count": 14
    }
   ],
   "source": [
    "class Point:\n",
    "    def __init__(self, x, y):\n",
    "        self.x = x\n",
    "        self.y = y\n",
    "    \n",
    "    def falls_in_rectangle(self, lowleft, upright):\n",
    "        if lowleft[0] < self.x < upright[0]\\\n",
    "        and lowleft[1] < self.y < upright[1]:\n",
    "            return True\n",
    "        else:\n",
    "            return False\n",
    "    \n",
    "    def distance_from_point(self, point):\n",
    "        return ((self.x - point.x)**2 + \n",
    "                (self.y - point.y)**2) ** 0.5\n",
    "\n",
    "point1 = Point(1,1)\n",
    "point2 = Point(2,2)\n",
    "point1.distance_from_point(point2)"
   ]
  },
  {
   "cell_type": "code",
   "execution_count": 15,
   "metadata": {},
   "outputs": [],
   "source": [
    "#point1 - point2 # - is not an operator supported by Point type\n",
    "# TypeError: unsupported operand type(s) for -: 'Point' and 'Point'"
   ]
  },
  {
   "source": [
    "### Creating a second class\n"
   ],
   "cell_type": "markdown",
   "metadata": {}
  },
  {
   "cell_type": "code",
   "execution_count": 16,
   "metadata": {},
   "outputs": [],
   "source": [
    "class Point:\n",
    "    def __init__(self, x, y):\n",
    "        self.x = x\n",
    "        self.y = y\n",
    "    \n",
    "    def falls_in_rectangle(self, rectangle): # change the input with defining a new object Rectangle\n",
    "        if rectangle.lowleft.x < self.x < rectangle.upright.x\\\n",
    "        and rectangle.lowleft.y < self.y < rectangle.upright.y:\n",
    "            return True\n",
    "        else:\n",
    "            return False\n",
    "    \n",
    "    def distance_from_point(self, point):\n",
    "        return ((self.x - point.x)**2 + \n",
    "                (self.y - point.y)**2) ** 0.5\n",
    "class Rectangle:\n",
    "    def __init__(self,lowleft, upright):\n",
    "        self.lowleft = lowleft\n",
    "        self.upright = upright"
   ]
  },
  {
   "cell_type": "code",
   "execution_count": 17,
   "metadata": {},
   "outputs": [
    {
     "output_type": "execute_result",
     "data": {
      "text/plain": [
       "True"
      ]
     },
     "metadata": {},
     "execution_count": 17
    }
   ],
   "source": [
    "pointx = Point(6,7)\n",
    "rectanglex = Rectangle(Point(5,6),Point(7,9))\n",
    "pointx.falls_in_rectangle(rectanglex)"
   ]
  },
  {
   "source": [
    ">the original inputs of falls_in_rectangle() are tuples which is subscriptable\n",
    ">\n",
    ">we redefine the this function with an object Rectangle by two Point object\n",
    ">\n",
    ">the function if else condition should be change to fit with the Point object"
   ],
   "cell_type": "markdown",
   "metadata": {}
  },
  {
   "cell_type": "code",
   "execution_count": 18,
   "metadata": {},
   "outputs": [],
   "source": [
    "#pointx[0]\n",
    "#TypeError: 'Point' object is not subscriptable"
   ]
  },
  {
   "cell_type": "code",
   "execution_count": 19,
   "metadata": {},
   "outputs": [
    {
     "output_type": "stream",
     "name": "stdout",
     "text": [
      "Rectangle Coordinates:  8 , 7 and 15 , 11\n",
      "Your point was inside rectangle:  False\n"
     ]
    }
   ],
   "source": [
    "from random import randint\n",
    "rectangle = Rectangle(\n",
    "    Point(randint(0,9), randint(0,9)),\n",
    "    Point(randint(10,19), randint(10,19))\n",
    ")\n",
    "\n",
    "print(\"Rectangle Coordinates: \",\n",
    "      rectangle.lowleft.x, \",\",\n",
    "      rectangle.lowleft.y, \"and\",\n",
    "      rectangle.upright.x, \",\",\n",
    "      rectangle.upright.y)\n",
    "\n",
    "user_point = Point(float(input(\"Guess X: \")),float(input(\"Guess Y: \")))\n",
    "print(\"Your point was inside rectangle: \",user_point.falls_in_rectangle(rectangle))"
   ]
  },
  {
   "source": [
    "### Adding new function to generating area\n"
   ],
   "cell_type": "markdown",
   "metadata": {}
  },
  {
   "cell_type": "code",
   "execution_count": 20,
   "metadata": {},
   "outputs": [],
   "source": [
    "class Point:\n",
    "    def __init__(self, x, y):\n",
    "        self.x = x\n",
    "        self.y = y\n",
    "    \n",
    "    def falls_in_rectangle(self, rectangle): # change the input with defining a new object Rectangle\n",
    "        if rectangle.point1.x < self.x < rectangle.point2.x\\\n",
    "        and rectangle.point1.y < self.y < rectangle.point2.y:\n",
    "            return True\n",
    "        else:\n",
    "            return False \n",
    "    \n",
    "    \n",
    "    def distance_from_point(self, point):\n",
    "        return ((self.x - point.x)**2 + \n",
    "                (self.y - point.y)**2) ** 0.5\n",
    "\n",
    "class Rectangle:\n",
    "    def __init__(self,point1, point2):\n",
    "        self.point1 = point1\n",
    "        self.point2 = point2\n",
    "\n",
    "    def area(self):\n",
    "        return (self.point2.x - self.point1.x) * \\\n",
    "               (self.point2.y - self.point1.y)"
   ]
  },
  {
   "cell_type": "code",
   "execution_count": 21,
   "metadata": {},
   "outputs": [
    {
     "output_type": "stream",
     "name": "stdout",
     "text": [
      "Rectangle Coordinates:  8 , 0 and 15 , 14\n",
      "Your point was inside rectangle:  False\n",
      "Your area was off by: 96.0\n"
     ]
    }
   ],
   "source": [
    "rectangle = Rectangle(\n",
    "    Point(randint(0,9), randint(0,9)),\n",
    "    Point(randint(10,19), randint(10,19))\n",
    ")\n",
    "\n",
    "print(\"Rectangle Coordinates: \",\n",
    "      rectangle.point1.x, \",\",\n",
    "      rectangle.point1.y, \"and\",\n",
    "      rectangle.point2.x, \",\",\n",
    "      rectangle.point2.y)\n",
    "\n",
    "user_point = Point(float(input(\"Guess X: \")),float(input(\"Guess Y: \")))\n",
    "user_area = float(input(\"Guess rectangle area: \"))\n",
    "print(\"Your point was inside rectangle: \",user_point.falls_in_rectangle(rectangle))\n",
    "print(\"Your area was off by:\",\n",
    "      rectangle.area() - user_area)"
   ]
  },
  {
   "cell_type": "code",
   "execution_count": null,
   "metadata": {},
   "outputs": [],
   "source": []
  }
 ]
}